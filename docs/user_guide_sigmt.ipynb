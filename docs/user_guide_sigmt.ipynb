{
 "cells": [
  {
   "cell_type": "markdown",
   "id": "2a5f8936-4cfa-4035-b525-0174b3f03bd2",
   "metadata": {},
   "source": [
    "# Install Anaconda"
   ]
  },
  {
   "cell_type": "markdown",
   "id": "43f30440-549f-4c26-992b-2ed142239b9f",
   "metadata": {},
   "source": [
    "I recommend installing Anaconda for using SigMT. [Download Anaconda](https://www.anaconda.com/download) here."
   ]
  },
  {
   "cell_type": "markdown",
   "id": "2ac3676a-abdc-4a68-98d2-9822b9ab8374",
   "metadata": {},
   "source": [
    "# Install SigMT"
   ]
  },
  {
   "cell_type": "markdown",
   "id": "abcbd6fa-99a2-48d7-8dd2-5fc439cdc2ef",
   "metadata": {},
   "source": [
    "##### Option 1: Install from GitHub\n",
    "Open Anaconda Prompt\n",
    "Clone the repository: [https://github.com/ajithabhks/sigmt.git](https://github.com/ajithabhks/sigmt.git)"
   ]
  },
  {
   "cell_type": "code",
   "execution_count": null,
   "id": "2dd4f8dc-6e8e-480c-a4c5-4b822123fafc",
   "metadata": {},
   "outputs": [],
   "source": [
    "cd sigmt"
   ]
  },
  {
   "cell_type": "code",
   "execution_count": null,
   "id": "0dfab0d6-ec9b-48b2-b33b-9af1f9b544fa",
   "metadata": {},
   "outputs": [],
   "source": [
    "pip install -e ."
   ]
  },
  {
   "cell_type": "code",
   "execution_count": null,
   "id": "2390908c-cfa7-4763-9c91-50e0e7bece01",
   "metadata": {},
   "outputs": [],
   "source": []
  }
 ],
 "metadata": {
  "kernelspec": {
   "display_name": "Python 3 (ipykernel)",
   "language": "python",
   "name": "python3"
  },
  "language_info": {
   "codemirror_mode": {
    "name": "ipython",
    "version": 3
   },
   "file_extension": ".py",
   "mimetype": "text/x-python",
   "name": "python",
   "nbconvert_exporter": "python",
   "pygments_lexer": "ipython3",
   "version": "3.11.5"
  }
 },
 "nbformat": 4,
 "nbformat_minor": 5
}
