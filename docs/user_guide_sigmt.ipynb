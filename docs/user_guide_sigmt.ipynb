{
 "cells": [
  {
   "cell_type": "markdown",
   "id": "2a5f8936-4cfa-4035-b525-0174b3f03bd2",
   "metadata": {},
   "source": [
    "## Install Anaconda"
   ]
  },
  {
   "cell_type": "markdown",
   "id": "43f30440-549f-4c26-992b-2ed142239b9f",
   "metadata": {},
   "source": [
    "I recommend installing Anaconda for using SigMT. [Download Anaconda](https://www.anaconda.com/download) from here."
   ]
  },
  {
   "cell_type": "code",
   "execution_count": null,
   "id": "7d64e4a0-e7f1-4e3f-8068-adbd35758469",
   "metadata": {},
   "outputs": [],
   "source": []
  }
 ],
 "metadata": {
  "kernelspec": {
   "display_name": "Python 3 (ipykernel)",
   "language": "python",
   "name": "python3"
  },
  "language_info": {
   "codemirror_mode": {
    "name": "ipython",
    "version": 3
   },
   "file_extension": ".py",
   "mimetype": "text/x-python",
   "name": "python",
   "nbconvert_exporter": "python",
   "pygments_lexer": "ipython3",
   "version": "3.11.5"
  }
 },
 "nbformat": 4,
 "nbformat_minor": 5
}
