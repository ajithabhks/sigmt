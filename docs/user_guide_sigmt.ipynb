{
 "cells": [
  {
   "cell_type": "markdown",
   "id": "2a5f8936-4cfa-4035-b525-0174b3f03bd2",
   "metadata": {},
   "source": [
    "# Install Anaconda\n",
    "---"
   ]
  },
  {
   "cell_type": "markdown",
   "id": "43f30440-549f-4c26-992b-2ed142239b9f",
   "metadata": {},
   "source": [
    "I recommend installing Anaconda for using SigMT. [Download Anaconda](https://www.anaconda.com/download) here."
   ]
  },
  {
   "cell_type": "markdown",
   "id": "2ac3676a-abdc-4a68-98d2-9822b9ab8374",
   "metadata": {},
   "source": [
    "# Install SigMT\n",
    "---"
   ]
  },
  {
   "cell_type": "markdown",
   "id": "abcbd6fa-99a2-48d7-8dd2-5fc439cdc2ef",
   "metadata": {},
   "source": [
    "##### Option 1: Install from GitHub\n",
    "Open Anaconda Prompt.\n",
    "\n",
    "Clone the repository: [https://github.com/ajithabhks/sigmt.git](https://github.com/ajithabhks/sigmt.git)\n",
    "\n",
    "Create new environment:\n",
    "\n",
    "Type:\n",
    "\n",
    "```bash\n",
    "> conda create --name sigmt\n",
    "> conda activate sigmt\n",
    "> git clone https://github.com/ajithabhks/sigmt.git\n",
    "> cd sigmt\n",
    "> pip install -e ."
   ]
  },
  {
   "cell_type": "markdown",
   "id": "2811892d-53a4-4aef-8dbc-6d680389d19b",
   "metadata": {},
   "source": [
    "##### Option 2: Install from pip (Will be available soon)\n",
    "Open Anaconda Prompt\n",
    "\n",
    "Type:\n",
    "```bash\n",
    "> pip install sigmt\n"
   ]
  },
  {
   "cell_type": "markdown",
   "id": "df3e424b-63f8-4a0b-8342-5c2eabead003",
   "metadata": {},
   "source": [
    "# Opening SigMT\n",
    "---"
   ]
  },
  {
   "cell_type": "markdown",
   "id": "7e035f6e-f7c0-4db6-a629-219a4a2d1d9a",
   "metadata": {},
   "source": [
    "Open Anaconda Prompt.\n",
    "\n",
    "If Option 1 (Option 1: Install from GitHub) is used for installation.\n",
    "Type:\n",
    "\n",
    "```bash\n",
    "> conda activate sigmt\n",
    "> sigmt"
   ]
  },
  {
   "cell_type": "markdown",
   "id": "bc4a1d59-0b15-4755-9095-c55f09221615",
   "metadata": {},
   "source": [
    "If Option 2 ( Install from pip) is used for installation.\n",
    "Type:\n",
    "\n",
    "```bash\n",
    "> sigmt"
   ]
  },
  {
   "cell_type": "markdown",
   "id": "4be989c5-6d31-4579-8276-611fcebda6cc",
   "metadata": {},
   "source": [
    "# First window"
   ]
  },
  {
   "cell_type": "markdown",
   "id": "a7f837ba-aa52-4523-b4d3-1edd54223ab1",
   "metadata": {},
   "source": [
    "Choose instrument:"
   ]
  },
  {
   "attachments": {
    "84d28eff-f7ad-472f-af39-f23ac1ae752b.png": {
     "image/png": "[encoded data removed]"
    }
   },
   "cell_type": "markdown",
   "id": "8952d838-65e1-4c5a-a5fa-2ce73560141a",
   "metadata": {},
   "source": [
    "![image.png](attachment:84d28eff-f7ad-472f-af39-f23ac1ae752b.png)"
   ]
  },
  {
   "cell_type": "code",
   "execution_count": null,
   "id": "fc1cdf35-0a92-46be-a996-fdec44b8934a",
   "metadata": {},
   "outputs": [],
   "source": []
  }
 ],
 "metadata": {
  "kernelspec": {
   "display_name": "Python 3 (ipykernel)",
   "language": "python",
   "name": "python3"
  },
  "language_info": {
   "codemirror_mode": {
    "name": "ipython",
    "version": 3
   },
   "file_extension": ".py",
   "mimetype": "text/x-python",
   "name": "python",
   "nbconvert_exporter": "python",
   "pygments_lexer": "ipython3",
   "version": "3.11.5"
  }
 },
 "nbformat": 4,
 "nbformat_minor": 5
}
